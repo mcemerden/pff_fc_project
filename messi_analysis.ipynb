{
 "cells": [
  {
   "cell_type": "code",
   "execution_count": null,
   "id": "8ca1d2ef-6b51-4053-bc77-fa09c3c7d421",
   "metadata": {},
   "outputs": [],
   "source": [
    "%run clean_data.ipynb\n",
    "%run pitch_plot_fun.ipynb"
   ]
  },
  {
   "cell_type": "code",
   "execution_count": null,
   "id": "3d361d91-2e3a-4d12-acad-6cb1bef7447c",
   "metadata": {},
   "outputs": [],
   "source": [
    "messi_grades = grades_df.query('`player.id` == \"1531\"')\n",
    "clean_tracking_df = pd.read_csv('C:/Users/erden/OneDrive/Desktop/PFFFC/clean_tracking.csv')"
   ]
  },
  {
   "cell_type": "code",
   "execution_count": null,
   "id": "6f3ac72a-172d-4faa-a375-45e733f990ee",
   "metadata": {},
   "outputs": [],
   "source": [
    "messi_grades[['possession_event_id', 'player.id']] = messi_grades[['possession_event_id', 'player.id']].astype(int)\n",
    "messi_grades['playerGrade'] = messi_grades['playerGrade'].fillna(0)"
   ]
  },
  {
   "cell_type": "code",
   "execution_count": null,
   "id": "20d09346-f371-45c7-852e-8052db5699b4",
   "metadata": {},
   "outputs": [],
   "source": [
    "messi_grade_locs = messi_grades.merge(clean_tracking_df, on = ['possession_event_id', 'player.id', 'player.nickname'])\n",
    "messi_grades_non_zero = messi_grade_locs.query('playerGrade != 0')"
   ]
  },
  {
   "cell_type": "code",
   "execution_count": null,
   "id": "45bee29c-a7de-44fb-9d32-f227425cd75f",
   "metadata": {},
   "outputs": [],
   "source": [
    "# Create the figure and axis\n",
    "fig, ax = plt.subplots(figsize=(10, 7))\n",
    "\n",
    "# Plot the pitch\n",
    "plot_custom_pitch(ax=ax)\n",
    "\n",
    "\n",
    "ax.plot([52.5, -52.5], [-20.16, -20.16], color='black', linestyle='--', linewidth=1)\n",
    "ax.plot([52.5, -52.5], [-9.16, -9.16], color='black', linestyle='--', linewidth=1)\n",
    "ax.plot([52.5, -52.5], [9.16, 9.16], color='black', linestyle='--', linewidth=1)\n",
    "ax.plot([52.5, -52.5], [20.16, 20.16], color='black', linestyle='--', linewidth=1)\n",
    "\n",
    "# Define custom colormap\n",
    "colors = ['#5f03ff', '#0344ff', '#02a4df', '#97d5ec', '#ffcd00', '#df800e', '#f35b2b', '#ff0000']\n",
    "cmap = ListedColormap(colors)\n",
    "\n",
    "# Define the discrete grades as boundaries\n",
    "grades = [-2, -1.5, -1, -0.5, 0.5, 1, 1.5, 2]\n",
    "norm = BoundaryNorm(grades, len(colors))\n",
    "\n",
    "# Scatter plot for Messi's grades with discrete color mapping\n",
    "sc = ax.scatter(\n",
    "    messi_grades_non_zero['x_normalized'], \n",
    "    messi_grades_non_zero['y_normalized'], \n",
    "    c=messi_grades_non_zero['playerGrade'], \n",
    "    s=100, \n",
    "    cmap=cmap, \n",
    "    norm=norm, \n",
    "    edgecolors='black'\n",
    ")\n",
    "\n",
    "# Custom legend mapping the exact grades to colors\n",
    "legend_labels = [\"2\", \"1.5\", \"1\", \"0.5\", \"-0.5\", \"-1\", \"-1.5\", \"-2\"]\n",
    "reversed_colors = list(reversed(colors))\n",
    "legend_patches = [patches.Patch(color=reversed_colors[i], label=legend_labels[i]) for i in range(len(reversed_colors))]\n",
    "\n",
    "# Add legend outside the field bounds\n",
    "plt.legend(\n",
    "    handles=legend_patches,\n",
    "    title=\"Player Grade\",\n",
    "    loc='center left',\n",
    "    bbox_to_anchor=(1.05, 0.5),  # Position the legend to the right\n",
    "    fontsize=8,\n",
    "    title_fontsize=10,\n",
    "    frameon=False\n",
    ")\n",
    "\n",
    "plt.title('Messi PFF Grades by Field Zone')\n",
    "plt.show()"
   ]
  },
  {
   "cell_type": "code",
   "execution_count": null,
   "id": "c2a109a5-2386-47e2-bf0a-fbdf86c2b85b",
   "metadata": {},
   "outputs": [],
   "source": [
    "#Look at bunch of other stuff about Messi's grades (positive graded percentage based on different variables)\n",
    "messi_grades['possession_event_id'] = messi_grades['possession_event_id'].astype(str)\n",
    "messi_grades_detail = messi_grades.merge(possession_df, left_on ='possession_event_id', right_on = 'id')"
   ]
  },
  {
   "cell_type": "code",
   "execution_count": null,
   "id": "5ecf0636-5f1f-4331-81b3-df023f423701",
   "metadata": {},
   "outputs": [],
   "source": [
    "messi_grades_pa = messi_grades_detail.query('possessionEventType == \"PA\"')\n",
    "messi_grades_pa['gradeType'] = messi_grades_pa['playerGrade'].apply(lambda x: 'Positive' if x > 0 else 'Negative' if x < 0 else 'Zero')\n",
    "\n",
    "# Group by passingFoot and gradeType, then count\n",
    "summary = messi_grades_pa.query('`passingEvent.passBodyType` in [\"L\", \"R\"]').groupby(['passingEvent.passBodyType', 'gradeType']).size().unstack(fill_value=0)\n",
    "\n",
    "percentages = summary.div(summary.sum(axis=1), axis=0) * 100\n",
    "\n",
    "# Plot a stacked bar chart\n",
    "ax = percentages.plot(kind='bar', stacked=True, figsize=(8, 6), color=['red', 'green', 'white'],  edgecolor='black')\n",
    "\n",
    "# Add labels and title\n",
    "plt.title('Percentage of Positively vs Negatively Graded Plays by Passing Foot')\n",
    "plt.ylabel('Percentage')\n",
    "plt.xlabel('Passing Foot')\n",
    "plt.legend(title='Grade Type', loc='upper right')\n",
    "plt.xticks(rotation=0)\n",
    "\n",
    "# Show values on bars\n",
    "for container in ax.containers:\n",
    "    ax.bar_label(container, fmt='%.1f%%', label_type='center')\n",
    "\n",
    "plt.tight_layout()\n",
    "plt.show()"
   ]
  },
  {
   "cell_type": "code",
   "execution_count": null,
   "id": "a0a334d6-360e-4c70-b561-99df5a902525",
   "metadata": {},
   "outputs": [],
   "source": [
    "summary = messi_grades_pa.assign(pressureType=lambda x: np.where(x['passingEvent.pressureType'].isna(), 'NO', x['passingEvent.pressureType'])).groupby(['pressureType', 'gradeType']).size().unstack(fill_value=0)\n",
    "\n",
    "percentages = summary.div(summary.sum(axis=1), axis=0) * 100\n",
    "\n",
    "# Plot a stacked bar chart\n",
    "ax = percentages.plot(kind='bar', stacked=True, figsize=(8, 6), color=['red', 'green', 'white'],  edgecolor='black')\n",
    "\n",
    "# Add labels and title\n",
    "plt.title('Percentage of Positively vs Negatively Graded Plays by Pressure Type')\n",
    "plt.ylabel('Percentage')\n",
    "plt.xlabel('Pressure Type')\n",
    "plt.legend(title='Grade Type', loc='upper right')\n",
    "plt.xticks(rotation=0)\n",
    "\n",
    "# Show values on bars\n",
    "for container in ax.containers:\n",
    "    ax.bar_label(container, fmt='%.1f%%', label_type='center')\n",
    "\n",
    "plt.tight_layout()\n",
    "plt.show()"
   ]
  },
  {
   "cell_type": "code",
   "execution_count": null,
   "id": "f8c8f024-09bb-40cc-92cf-4fe00415f2db",
   "metadata": {},
   "outputs": [],
   "source": [
    "messi_grades_sh = messi_grades_detail.query('possessionEventType == \"SH\"')\n",
    "messi_grades_sh['gradeType'] = messi_grades_sh['playerGrade'].apply(lambda x: 'Positive' if x > 0 else 'Negative' if x < 0 else 'Zero')\n",
    "\n",
    "# Group by passingFoot and gradeType, then count\n",
    "summary = messi_grades_sh.query('`shootingEvent.shotBodyType` in [\"L\", \"R\"]').groupby(['shootingEvent.shotBodyType', 'gradeType']).size().unstack(fill_value=0)\n",
    "\n",
    "percentages = summary.div(summary.sum(axis=1), axis=0) * 100\n",
    "\n",
    "# Plot a stacked bar chart\n",
    "ax = percentages.plot(kind='bar', stacked=True, figsize=(8, 6), color=['red', 'green', 'white'],  edgecolor='black')\n",
    "\n",
    "# Add labels and title\n",
    "plt.title('Percentage of Positively vs Negatively Graded Plays by Shooting Foot')\n",
    "plt.ylabel('Percentage')\n",
    "plt.xlabel('Shooting Foot')\n",
    "plt.legend(title='Grade Type', loc='upper right')\n",
    "plt.xticks(rotation=0)\n",
    "\n",
    "# Show values on bars\n",
    "for container in ax.containers:\n",
    "    ax.bar_label(container, fmt='%.1f%%', label_type='center')\n",
    "\n",
    "plt.tight_layout()\n",
    "plt.show()"
   ]
  },
  {
   "cell_type": "code",
   "execution_count": null,
   "id": "cbc06a84-c18c-4b32-85d7-708b51115a33",
   "metadata": {},
   "outputs": [],
   "source": [
    "summary = messi_grades_sh.assign(pressureType=lambda x: np.where(x['shootingEvent.pressureType'].isna(), 'NO', x['shootingEvent.pressureType'])).groupby(['pressureType', 'gradeType']).size().unstack(fill_value=0)\n",
    "\n",
    "percentages = summary.div(summary.sum(axis=1), axis=0) * 100\n",
    "\n",
    "# Plot a stacked bar chart\n",
    "ax = percentages.plot(kind='bar', stacked=True, figsize=(8, 6), color=['red', 'green', 'white'],  edgecolor='black')\n",
    "\n",
    "# Add labels and title\n",
    "plt.title('Percentage of Positively vs Negatively Graded Plays by Pressure Type')\n",
    "plt.ylabel('Percentage')\n",
    "plt.xlabel('Pressure Type')\n",
    "plt.legend(title='Grade Type', loc='upper right')\n",
    "plt.xticks(rotation=0)\n",
    "\n",
    "# Show values on bars\n",
    "for container in ax.containers:\n",
    "    ax.bar_label(container, fmt='%.1f%%', label_type='center')\n",
    "\n",
    "plt.tight_layout()\n",
    "plt.show()"
   ]
  },
  {
   "cell_type": "code",
   "execution_count": null,
   "id": "12dcb5cd-43ee-457f-8f1e-3c3aa6b820f8",
   "metadata": {},
   "outputs": [],
   "source": []
  }
 ],
 "metadata": {
  "kernelspec": {
   "display_name": "Python 3 (ipykernel)",
   "language": "python",
   "name": "python3"
  },
  "language_info": {
   "codemirror_mode": {
    "name": "ipython",
    "version": 3
   },
   "file_extension": ".py",
   "mimetype": "text/x-python",
   "name": "python",
   "nbconvert_exporter": "python",
   "pygments_lexer": "ipython3",
   "version": "3.12.7"
  }
 },
 "nbformat": 4,
 "nbformat_minor": 5
}
