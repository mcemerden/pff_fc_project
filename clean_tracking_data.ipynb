{
 "cells": [
  {
   "cell_type": "code",
   "execution_count": null,
   "id": "a5d59bcf-0ed7-4049-b053-b3e0bfb6758e",
   "metadata": {},
   "outputs": [],
   "source": [
    "%run clean_data.ipynb"
   ]
  },
  {
   "cell_type": "code",
   "execution_count": null,
   "id": "2dfbb81a-a319-456f-82fb-84111b7f846a",
   "metadata": {},
   "outputs": [],
   "source": [
    "def process_game(game_id, base_path='C:/Users/erden/OneDrive/Desktop/PFFFC/'):\n",
    "    #Processes a single game JSONL file and returns a cleaned DataFrame.\n",
    "\n",
    "    print(f'Starting {game_id}')\n",
    "    \n",
    "    # Load the game JSONL file\n",
    "    file_path = f'{base_path}{game_id}.jsonl'\n",
    "    game_df = pd.read_json(file_path, lines=True).query('game_event.notnull()')\n",
    "    \n",
    "    # Add custom column 'gameId'\n",
    "    game_df['gameId'] = game_id\n",
    "    \n",
    "    # Filter rows where team_name is 'Argentina'\n",
    "    game_argentina = game_df[game_df['game_event'].apply(lambda x: x.get('team_name') == 'Argentina')]\n",
    "    \n",
    "    # Add 'sequence' column extracted from 'game_event'\n",
    "    game_argentina = game_argentina.assign(\n",
    "        sequence=game_argentina['game_event'].apply(lambda x: x.get('sequence'))\n",
    "    )\n",
    "    \n",
    "    return game_argentina"
   ]
  },
  {
   "cell_type": "code",
   "execution_count": null,
   "id": "150a942c-4ebc-48bd-bae1-82f58b7c1142",
   "metadata": {},
   "outputs": [],
   "source": [
    "arg_games = metadata_df.query('(`awayTeam.name` == \"Argentina\" or `homeTeam.name` == \"Argentina\") and id != 10517')['id']"
   ]
  },
  {
   "cell_type": "code",
   "execution_count": null,
   "id": "2e3162ef-626b-4524-82fe-bd4aded6ce45",
   "metadata": {},
   "outputs": [],
   "source": [
    "games_df = pd.concat([process_game(game_id) for game_id in arg_games], ignore_index=True)"
   ]
  },
  {
   "cell_type": "code",
   "execution_count": null,
   "id": "8a0a6874-e919-4928-99ff-4502a550a20f",
   "metadata": {},
   "outputs": [],
   "source": [
    "games_df = games_df.query('possession_event_id.notna()')"
   ]
  },
  {
   "cell_type": "code",
   "execution_count": null,
   "id": "1216a3a8-109a-474b-8a2b-32a76b82cc37",
   "metadata": {},
   "outputs": [],
   "source": [
    "def create_cleaned_tracking_df(rosters_df, metadata_df, game_df):\n",
    "    # Step 1: Merge game_df with metadata_df to include team information\n",
    "    game_df = game_df.merge(\n",
    "        metadata_df[['id', 'homeTeam.id', 'homeTeam.name', 'awayTeam.id', 'awayTeam.name', 'homeTeamStartLeft']],\n",
    "        left_on='gameId', right_on='id', how='left'\n",
    "    )\n",
    "    \n",
    "    # Step 2: Expand player tracking data\n",
    "    def explode_tracking_data(df, col_name, team_id, team_name, home_indicator):\n",
    "        # Explode the player tracking data\n",
    "        exploded = df.explode(col_name)\n",
    "        # Expand player attributes from the dictionaries in tracking data\n",
    "        exploded = pd.concat(\n",
    "            [exploded.drop(columns=[col_name]), exploded[col_name].apply(pd.Series)],\n",
    "            axis=1\n",
    "        )\n",
    "        # Add team information and home indicator\n",
    "        exploded['team.id'] = team_id\n",
    "        exploded['team.name'] = team_name\n",
    "        exploded['Home'] = home_indicator\n",
    "        return exploded\n",
    "\n",
    "    # Explode home and away tracking data\n",
    "    home_tracking = explode_tracking_data(\n",
    "        game_df, 'homePlayersSmoothed', game_df['homeTeam.id'], game_df['homeTeam.name'], 1\n",
    "    )\n",
    "    away_tracking = explode_tracking_data(\n",
    "        game_df, 'awayPlayersSmoothed', game_df['awayTeam.id'], game_df['awayTeam.name'], 0\n",
    "    )\n",
    "\n",
    "    # Combine home and away tracking data\n",
    "    tracking_data = pd.concat([home_tracking, away_tracking], ignore_index=True)\n",
    "\n",
    "    # Step 3: Merge with rosters_df to add player information\n",
    "    rosters_df['shirtNumber'] = rosters_df['shirtNumber'].astype(str)\n",
    "\n",
    "    tracking_data = tracking_data.merge(\n",
    "        rosters_df.drop(columns=['team.name']), left_on=['gameId', 'team.id', 'jerseyNum'], right_on=['game_id', 'team.id', 'shirtNumber'], how='left')\n",
    "\n",
    "    # Step 4: Add ToRight column\n",
    "    def calculate_to_right(row):\n",
    "        if row['Home'] == 1:\n",
    "            return int((row['homeTeamStartLeft'] and row['period'] % 2 == 1) or \n",
    "                       (not row['homeTeamStartLeft'] and row['period'] % 2 == 0))\n",
    "        else:\n",
    "            return int((not row['homeTeamStartLeft'] and row['period'] % 2 == 1) or \n",
    "                       (row['homeTeamStartLeft'] and row['period'] % 2 == 0))\n",
    "\n",
    "    # Use homeTeamStartLeft and period to calculate ToRight\n",
    "    tracking_data['ToRight'] = tracking_data.apply(calculate_to_right, axis=1)\n",
    "\n",
    "    tracking_data['x_normalized'] = tracking_data.apply(lambda row: -row['x'] if row['ToRight'] == 0 else row['x'], axis=1)\n",
    "    tracking_data['y_normalized'] = tracking_data.apply(lambda row: -row['y'] if row['ToRight'] == 0 else row['y'], axis=1)\n",
    "\n",
    "    # Step 5: Select and reorder columns for the cleaned DataFrame\n",
    "    cleaned_tracking_df = tracking_data[[\n",
    "        'game_id', 'sequence', 'possession_event_id', 'game_event_id',\n",
    "        'frameNum', 'period',  # Include frameNum and period\n",
    "        'player.id', 'player.nickname', 'team.id', 'team.name', 'Home',\n",
    "        'ToRight', 'x', 'y', 'x_normalized', 'y_normalized', 'confidence'\n",
    "    ]].copy()\n",
    "\n",
    "    return cleaned_tracking_df"
   ]
  },
  {
   "cell_type": "code",
   "execution_count": null,
   "id": "d04e6b2f-55d5-44fa-baca-e30d7e6450d0",
   "metadata": {},
   "outputs": [],
   "source": [
    "clean_tracking_df = create_cleaned_tracking_df(rosters_df, metadata_df, games_df)"
   ]
  },
  {
   "cell_type": "code",
   "execution_count": null,
   "id": "2378a55b-7816-44ca-acc9-713a3b182011",
   "metadata": {},
   "outputs": [],
   "source": [
    "clean_tracking_df.to_csv('C:/Users/erden/OneDrive/Desktop/PFFFC/clean_tracking.csv')"
   ]
  },
  {
   "cell_type": "code",
   "execution_count": null,
   "id": "05a5b93c-c519-406d-9bf8-9029398c8c10",
   "metadata": {},
   "outputs": [],
   "source": [
    "tracking_data = pd.concat([home_tracking, away_tracking], ignore_index=True)"
   ]
  }
 ],
 "metadata": {
  "kernelspec": {
   "display_name": "Python 3 (ipykernel)",
   "language": "python",
   "name": "python3"
  },
  "language_info": {
   "codemirror_mode": {
    "name": "ipython",
    "version": 3
   },
   "file_extension": ".py",
   "mimetype": "text/x-python",
   "name": "python",
   "nbconvert_exporter": "python",
   "pygments_lexer": "ipython3",
   "version": "3.12.7"
  }
 },
 "nbformat": 4,
 "nbformat_minor": 5
}
