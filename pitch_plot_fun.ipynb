{
 "cells": [
  {
   "cell_type": "code",
   "execution_count": null,
   "id": "61340048-e424-4f7a-a66f-7ab69ef5e764",
   "metadata": {},
   "outputs": [],
   "source": [
    "import matplotlib.pyplot as plt\n",
    "import matplotlib.patches as patches\n",
    "from matplotlib.colors import ListedColormap, BoundaryNorm"
   ]
  },
  {
   "cell_type": "code",
   "execution_count": null,
   "id": "644db793-ed7a-4060-931b-a9ac48bfd0e9",
   "metadata": {},
   "outputs": [],
   "source": [
    "def plot_custom_pitch(ax=None):\n",
    "    \n",
    "    #If `ax` is provided, the pitch will be drawn on the given axis.\n",
    "    \n",
    "    if ax is None:\n",
    "        fig, ax = plt.subplots(figsize=(10, 7))\n",
    "\n",
    "    # Draw field outline and center line\n",
    "    ax.plot([-52.5, 52.5, 52.5, -52.5, -52.5], [-34, -34, 34, 34, -34], color='black')\n",
    "    ax.plot([0, 0], [-34, 34], color='black')\n",
    "\n",
    "    # Penalty boxes\n",
    "    penalty_box_coords = [(52.5, -20.16), (36, -20.16), (36, 20.16), (52.5, 20.16), (52.5, -20.16)]\n",
    "    ax.plot(*zip(*penalty_box_coords), color='black')\n",
    "    ax.plot(*zip(*[(-x, y) for x, y in penalty_box_coords]), color='black')\n",
    "\n",
    "    # 6-yard boxes\n",
    "    six_yard_coords = [(52.5, -9.16), (47, -9.16), (47, 9.16), (52.5, 9.16), (52.5, -9.16)]\n",
    "    ax.plot(*zip(*six_yard_coords), color='black')\n",
    "    ax.plot(*zip(*[(-x, y) for x, y in six_yard_coords]), color='black')\n",
    "\n",
    "    # Center circle and spot\n",
    "    ax.add_patch(patches.Circle((0, 0), 9.15, edgecolor='black', facecolor='none'))\n",
    "    ax.scatter(0, 0, color='black')\n",
    "\n",
    "    # Penalty spots\n",
    "    ax.scatter(41.5, 0, color='black')  # Right penalty spot\n",
    "    ax.scatter(-41.5, 0, color='black')  # Left penalty spot\n",
    "\n",
    "    # Penalty arcs\n",
    "    ax.add_patch(patches.Arc((-41.5, 0), 18.15, 18.15, angle=0, theta1=307, theta2=53, color='black'))\n",
    "    ax.add_patch(patches.Arc((41.5, 0), 18.15, 18.15, angle=0, theta1=127, theta2=233, color='black'))\n",
    "\n",
    "    # Set axis limits and style\n",
    "    ax.set_xlim(-55, 55)\n",
    "    ax.set_ylim(-36, 36)\n",
    "    ax.set_aspect('equal')\n",
    "    ax.axis('off')\n",
    "\n",
    "    return ax"
   ]
  }
 ],
 "metadata": {
  "kernelspec": {
   "display_name": "Python 3 (ipykernel)",
   "language": "python",
   "name": "python3"
  },
  "language_info": {
   "codemirror_mode": {
    "name": "ipython",
    "version": 3
   },
   "file_extension": ".py",
   "mimetype": "text/x-python",
   "name": "python",
   "nbconvert_exporter": "python",
   "pygments_lexer": "ipython3",
   "version": "3.12.7"
  }
 },
 "nbformat": 4,
 "nbformat_minor": 5
}
