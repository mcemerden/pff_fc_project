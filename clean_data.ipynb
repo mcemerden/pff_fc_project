{
 "cells": [
  {
   "cell_type": "code",
   "execution_count": 81,
   "id": "60a705b3-fca0-47e9-8fc0-3bec16c1e286",
   "metadata": {},
   "outputs": [],
   "source": [
    "import numpy as np\n",
    "import pandas as pd\n",
    "import ast\n",
    "import json"
   ]
  },
  {
   "cell_type": "code",
   "execution_count": 101,
   "id": "d63ae065-891d-47ac-8513-0d92618bddda",
   "metadata": {},
   "outputs": [],
   "source": [
    "#Import games, rosters and meta data\n",
    "\n",
    "rosters = pd.read_csv('C:/Users/erden/OneDrive/Desktop/PFFFC/rosters.csv')\n",
    "\n",
    "metadata = pd.read_csv('C:/Users/erden/OneDrive/Desktop/PFFFC/metadata.csv')\n",
    "\n",
    "players_df = pd.read_csv('C:/Users/erden/OneDrive/Desktop/PFFFC/players.csv')\n",
    "\n",
    "#Import events data\n",
    "with open('C:/Users/erden/OneDrive/Desktop/PFFFC/events.json', 'r') as file:\n",
    "    events = json.load(file)"
   ]
  },
  {
   "cell_type": "code",
   "execution_count": 82,
   "id": "a8ffed4a-4eb0-4e80-a212-f142e1caf9e1",
   "metadata": {},
   "outputs": [],
   "source": [
    "def flatten_columns(df, columns_to_flatten):\n",
    "    #Flattens nested lists or dictionaries in specified columns of a DataFrame.\n",
    "    \n",
    "    flattened_parts = []\n",
    "    \n",
    "    for col in columns_to_flatten:\n",
    "        # Check if the column is properly formatted as a list of dictionaries\n",
    "        if df[col].apply(lambda x: isinstance(x, str)).any():\n",
    "            df[col] = df[col].apply(lambda x: ast.literal_eval(x) if isinstance(x, str) else x)\n",
    "        \n",
    "        # Normalize the column into separate columns\n",
    "        flattened = pd.DataFrame(df[col].tolist())  # Handle lists of dictionaries\n",
    "        flattened.columns = [f\"{col}.{subcol}\" for subcol in flattened.columns]  # Add prefix\n",
    "        flattened_parts.append(flattened)\n",
    "    \n",
    "    # Combine the original DataFrame with the flattened columns\n",
    "    return pd.concat([df.drop(columns_to_flatten, axis=1)] + flattened_parts, axis=1)"
   ]
  },
  {
   "cell_type": "code",
   "execution_count": 89,
   "id": "66fe31ba-9c93-48dc-83bb-0c84ab5485f6",
   "metadata": {},
   "outputs": [],
   "source": [
    "#Flatten lists into separate columns\n",
    "\n",
    "rosters_columns = ['player', 'team']\n",
    "rosters_df = flatten_columns(rosters, rosters_columns)\n",
    "\n",
    "metadata_columns = ['awayTeam', 'awayTeamKit', 'competition', 'homeTeam', 'homeTeamKit', 'stadium', 'videos']\n",
    "metadata_df = flatten_columns(metadata, metadata_columns)\n",
    "\n",
    "#Filter out data from the final since this would be before the final is played\n",
    "events_df = pd.json_normalize(events).query('gameId != 10517')\n"
   ]
  },
  {
   "cell_type": "code",
   "execution_count": 4,
   "id": "7383b5c0-0243-404e-8607-29f5dfb31c80",
   "metadata": {},
   "outputs": [],
   "source": [
    "#Split the lists in possessionEvents into separate rows so there will be multiple observations for ball events with multiple possession events\n",
    "events_df_exp = events_df.explode('possessionEvents')"
   ]
  },
  {
   "cell_type": "code",
   "execution_count": 5,
   "id": "866767ba-e123-4031-b0da-8bfe714267be",
   "metadata": {},
   "outputs": [],
   "source": [
    "#Create a dataframe of possession events and add game_event_id so we can match to ball events when necessary\n",
    "possession_df = pd.json_normalize(events_df_exp['possessionEvents'])"
   ]
  },
  {
   "cell_type": "code",
   "execution_count": 51,
   "id": "410b9dfb-f9ff-4d6f-a309-e8440605e04d",
   "metadata": {},
   "outputs": [],
   "source": [
    "possession_df['game_event_id'] = events_df_exp['game_event_id'].values"
   ]
  },
  {
   "cell_type": "code",
   "execution_count": 41,
   "id": "f55b06a4-3ffd-4c11-b658-7aa3488cae5c",
   "metadata": {},
   "outputs": [],
   "source": [
    "#Repeat the same step for grades\n",
    "possession_df_exp = possession_df.explode('grades')"
   ]
  },
  {
   "cell_type": "code",
   "execution_count": 43,
   "id": "8c141f67-f5bc-4cbb-8529-7e59ce2e5b97",
   "metadata": {},
   "outputs": [],
   "source": [
    "grades_df = pd.json_normalize(possession_df_exp['grades'])"
   ]
  },
  {
   "cell_type": "code",
   "execution_count": 53,
   "id": "7b3f113f-4a91-43ff-8ade-1fad1e8a380d",
   "metadata": {},
   "outputs": [],
   "source": [
    "grades_df['possession_event_id'] = possession_df_exp['id'].values"
   ]
  }
 ],
 "metadata": {
  "kernelspec": {
   "display_name": "Python 3 (ipykernel)",
   "language": "python",
   "name": "python3"
  },
  "language_info": {
   "codemirror_mode": {
    "name": "ipython",
    "version": 3
   },
   "file_extension": ".py",
   "mimetype": "text/x-python",
   "name": "python",
   "nbconvert_exporter": "python",
   "pygments_lexer": "ipython3",
   "version": "3.12.7"
  }
 },
 "nbformat": 4,
 "nbformat_minor": 5
}
