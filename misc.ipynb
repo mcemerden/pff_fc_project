{
 "cells": [
  {
   "cell_type": "code",
   "execution_count": 1,
   "id": "9120bedf-3341-48a3-9980-40b6ee9bb2f4",
   "metadata": {},
   "outputs": [],
   "source": [
    "%run clean_data.ipynb"
   ]
  },
  {
   "cell_type": "code",
   "execution_count": null,
   "id": "da4ba886-8b8a-4e9e-9bfa-df3cb74ce656",
   "metadata": {},
   "outputs": [],
   "source": [
    "possession_sequence = possession_df.assign(game_event_id=possession_df['game_event_id'].astype(int)).merge(all_games_event_keys, on='game_event_id', how='inner')"
   ]
  },
  {
   "cell_type": "code",
   "execution_count": null,
   "id": "2d8cd8fc-2bed-4bba-a9d9-343fd8de17b6",
   "metadata": {},
   "outputs": [],
   "source": [
    "def sequence_has_shot(sequence, event_id):\n",
    "    \n",
    "    # Get all events in the sequence\n",
    "    events_in_sequence = possession_sequence[possession_sequence['sequence'] == sequence]\n",
    "    \n",
    "    # Get the index of the event\n",
    "    event_index = events_in_sequence[\n",
    "        events_in_sequence['game_event_id'] == event_id].index[0]\n",
    "    \n",
    "    # Check if any occurs after this index\n",
    "    shot_after_event = events_in_sequence.query('index >= @event_index + 1 and possessionEventType == \"SH\"')\n",
    "    \n",
    "    if shot_after_event.empty:\n",
    "        return 0\n",
    "    return 1"
   ]
  },
  {
   "cell_type": "code",
   "execution_count": null,
   "id": "252a1754-de6f-4330-bb2e-1ccb3dfa2a8f",
   "metadata": {},
   "outputs": [],
   "source": [
    "messi_touch_events = pd.to_numeric(events_df.query('gameId == 3835 and gameEventType == \"OTB\" and `player.nickname` == \"Lionel Messi\"')['game_event_id']).to_list()\n",
    "\n",
    "messi_event_keys = all_games_event_keys.query('game_event_id in @messi_touch_events')\n",
    "\n",
    "messi_sequences = messi_event_keys['sequence']\n",
    "\n",
    "messi_event_pairs = list(zip(messi_sequences, messi_touch_events))"
   ]
  },
  {
   "cell_type": "code",
   "execution_count": null,
   "id": "5dd61220-2b4a-4fcc-91cb-10a3e103543c",
   "metadata": {},
   "outputs": [],
   "source": [
    "shots_after_messi = pd.concat(\n",
    "    [sequence_has_shot(sequence, event) for sequence, event in messi_event_pairs], ignore_index=True)"
   ]
  }
 ],
 "metadata": {
  "kernelspec": {
   "display_name": "Python 3 (ipykernel)",
   "language": "python",
   "name": "python3"
  },
  "language_info": {
   "codemirror_mode": {
    "name": "ipython",
    "version": 3
   },
   "file_extension": ".py",
   "mimetype": "text/x-python",
   "name": "python",
   "nbconvert_exporter": "python",
   "pygments_lexer": "ipython3",
   "version": "3.12.7"
  }
 },
 "nbformat": 4,
 "nbformat_minor": 5
}
