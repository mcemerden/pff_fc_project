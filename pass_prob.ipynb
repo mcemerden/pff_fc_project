{
 "cells": [
  {
   "cell_type": "code",
   "execution_count": null,
   "id": "10600c76-bc18-4dc5-b7d0-9c06c17d44bf",
   "metadata": {},
   "outputs": [],
   "source": [
    "%run clean_data.ipynb"
   ]
  },
  {
   "cell_type": "code",
   "execution_count": null,
   "id": "5385d5a5-b40a-439a-98a7-583834271443",
   "metadata": {},
   "outputs": [],
   "source": [
    "import statsmodels.formula.api as smf"
   ]
  },
  {
   "cell_type": "code",
   "execution_count": null,
   "id": "2a11fe29-ed22-4798-8bea-e1b71eb9946d",
   "metadata": {},
   "outputs": [],
   "source": [
    "pd.set_option('display.max_columns', None)"
   ]
  },
  {
   "cell_type": "code",
   "execution_count": null,
   "id": "1a80304c-cfc6-4943-bf5a-66ca2147a869",
   "metadata": {},
   "outputs": [],
   "source": [
    "#Look at who Messi gets the ball from most often\n",
    "to_messi = possession_df.query('`passingEvent.targetPlayer.nickname` == \"Lionel Messi\"')\n",
    "\n",
    "to_messi.groupby(['passingEvent.passerPlayer.id', 'passingEvent.passerPlayer.nickname']).size().sort_values(ascending = False)"
   ]
  },
  {
   "cell_type": "code",
   "execution_count": null,
   "id": "801cc2ca-4017-4b9d-8536-3077da72f0ef",
   "metadata": {},
   "outputs": [],
   "source": [
    "# Who RDP passes to most often\n",
    "from_rdp = possession_df.query('`passingEvent.passerPlayer.nickname` == \"Rodrigo de Paul\"')\n",
    "\n",
    "from_rdp.groupby(['passingEvent.targetPlayer.id', 'passingEvent.targetPlayer.nickname']).size().sort_values(ascending = False)"
   ]
  },
  {
   "cell_type": "code",
   "execution_count": null,
   "id": "e67187d1-343b-49f9-989b-faf0a2891611",
   "metadata": {},
   "outputs": [],
   "source": [
    "# Get and clean all passes from possession data\n",
    "passes = possession_df.query('possessionEventType == \"PA\"').dropna(subset=['id','passingEvent.passerPlayer.id', \n",
    "                                                                               'passingEvent.targetPlayer.id']).copy()"
   ]
  },
  {
   "cell_type": "code",
   "execution_count": null,
   "id": "52c0695d-daab-4ce7-ae75-0abda89c28da",
   "metadata": {},
   "outputs": [],
   "source": [
    "passes['id'] = arg_passes['id'].astype(int)\n",
    "passes['passingEvent.passerPlayer.id'] = arg_passes['passingEvent.passerPlayer.id'].astype(int)\n",
    "passes['passingEvent.targetPlayer.id'] = arg_passes['passingEvent.targetPlayer.id'].astype(int)"
   ]
  },
  {
   "cell_type": "code",
   "execution_count": null,
   "id": "54ecd774-1f04-4e79-ae4d-784d0e7cf245",
   "metadata": {},
   "outputs": [],
   "source": [
    "#Join to cleaned tracking data, will only be Argentina passes\n",
    "arg_passes_tracking = passes.merge(\n",
    "    clean_tracking_df,\n",
    "    left_on=['id', 'passingEvent.passerPlayer.id'],\n",
    "    right_on=['possession_event_id', 'player.id'],# player_id matches the passer's ID\n",
    "    how='inner'\n",
    ")"
   ]
  },
  {
   "cell_type": "code",
   "execution_count": null,
   "id": "48cd39b0-783d-4e52-89ec-f774fc63425c",
   "metadata": {},
   "outputs": [],
   "source": [
    "arg_passes_tracking = arg_passes_tracking.merge(\n",
    "    clean_tracking_df[['possession_event_id', 'player.id', 'x_normalized', 'y_normalized']],\n",
    "    left_on=['possession_event_id', 'passingEvent.targetPlayer.id'],\n",
    "    right_on=['possession_event_id', 'player.id'],  # Match receiver's ID\n",
    "    how='inner',\n",
    "    suffixes=('_passer', '_receiver')  # Distinguish passer and receiver columns\n",
    ")"
   ]
  },
  {
   "cell_type": "code",
   "execution_count": null,
   "id": "9a2a2339-a32f-4d17-8d9d-726a993f8286",
   "metadata": {},
   "outputs": [],
   "source": [
    "# Add new features pass distance and angle\n",
    "arg_passes_tracking = arg_passes_tracking.assign(\n",
    "    pass_distance=lambda df: np.sqrt(\n",
    "        (df['x_normalized_receiver'] - df['x_normalized_passer'])**2 +\n",
    "        (df['y_normalized_receiver'] - df['y_normalized_passer'])**2\n",
    "    ),\n",
    "    pass_angle=lambda df: np.abs(np.arctan2(\n",
    "    df['y_normalized_receiver'] - df['y_normalized_passer'],\n",
    "    df['x_normalized_receiver'] - df['x_normalized_passer']\n",
    ") * (180 / np.pi))  # Convert to degrees\n",
    ")"
   ]
  },
  {
   "cell_type": "code",
   "execution_count": null,
   "id": "41f0f767-a31b-407d-91ee-4396a8e24401",
   "metadata": {},
   "outputs": [],
   "source": [
    "#Reduce granularity of categorical data\n",
    "\n",
    "arg_passes_model_data = arg_passes_tracking[['passingEvent.ballHeightType', 'passingEvent.pressureType', 'passingEvent.passBodyType',\n",
    "                                             'passingEvent.passType','pass_distance', 'pass_angle', 'passingEvent.passOutcomeType']]\\\n",
    ".assign(PressureType=lambda x: np.where(x['passingEvent.pressureType'].isna(), 'NO', x['passingEvent.pressureType']),\n",
    "        BodyType=lambda x: np.where(x['passingEvent.passBodyType'].isin([\"L\", \"R\"]), x['passingEvent.passBodyType'], 'Other'),\n",
    "        PassHeight=lambda x: np.where(x['passingEvent.ballHeightType'].isin([\"G\", \"A\"]), x['passingEvent.ballHeightType'], 'Other'),\n",
    "        PassType=lambda x: np.where(x['passingEvent.passType'].isin([\"S\", \"T\", \"O\"]), x['passingEvent.passType'], 'Other'),\n",
    "        PassOutcome=lambda x: np.where(x['passingEvent.passOutcomeType'] == \"C\", 1, 0)).copy()"
   ]
  },
  {
   "cell_type": "code",
   "execution_count": null,
   "id": "0f9f7194-f3f3-4512-84bb-082238d078b0",
   "metadata": {},
   "outputs": [],
   "source": [
    "arg_passes_model_data['PassType'] = pd.Series(pd.Categorical(arg_passes_model_data.PassType, categories=[\"S\", \"T\", \"O\", \"Other\"]))\n",
    "arg_passes_model_data['PressureType'] = pd.Series(pd.Categorical(arg_passes_model_data.PressureType, categories=[\"NO\", \"L\", \"P\", \"A\"]))\n",
    "arg_passes_model_data['PassHeight'] = pd.Series(pd.Categorical(arg_passes_model_data.PassHeight, categories=[\"G\", \"A\", \"Other\"]))\n",
    "arg_passes_model_data['BodyType'] = pd.Series(pd.Categorical(arg_passes_model_data.BodyType, categories=[\"R\", \"L\", \"Other\"]))\n",
    "\n",
    "reg = smf.logit('PassOutcome ~  PressureType + pass_distance + pass_angle + BodyType + PassHeight + PassType', \n",
    "                data=arg_passes_model_data).fit()"
   ]
  },
  {
   "cell_type": "code",
   "execution_count": null,
   "id": "bde5642c-6202-4f46-a7c4-822645715654",
   "metadata": {},
   "outputs": [],
   "source": [
    "print(reg.summary())"
   ]
  },
  {
   "cell_type": "code",
   "execution_count": null,
   "id": "e1bd0997-6bf6-4dfe-ac22-0d5e54a17103",
   "metadata": {},
   "outputs": [],
   "source": [
    "np.exp(reg.params)"
   ]
  }
 ],
 "metadata": {
  "kernelspec": {
   "display_name": "Python 3 (ipykernel)",
   "language": "python",
   "name": "python3"
  },
  "language_info": {
   "codemirror_mode": {
    "name": "ipython",
    "version": 3
   },
   "file_extension": ".py",
   "mimetype": "text/x-python",
   "name": "python",
   "nbconvert_exporter": "python",
   "pygments_lexer": "ipython3",
   "version": "3.12.7"
  }
 },
 "nbformat": 4,
 "nbformat_minor": 5
}
